{
 "cells": [
  {
   "cell_type": "code",
   "execution_count": 1,
   "metadata": {
    "collapsed": true
   },
   "outputs": [],
   "source": [
    "import numpy as np"
   ]
  },
  {
   "cell_type": "markdown",
   "metadata": {
    "collapsed": true
   },
   "source": [
    "# Pandas Basics"
   ]
  },
  {
   "cell_type": "code",
   "execution_count": 2,
   "metadata": {
    "collapsed": true
   },
   "outputs": [],
   "source": [
    "import pandas as pd"
   ]
  },
  {
   "cell_type": "markdown",
   "metadata": {},
   "source": [
    "> Pandas allows for fast analysis, data cleaning and preparation.\n",
    "> Pandas excels in performance and productivity\n",
    "* conda install pandas\n",
    "_OR_\n",
    "* pip install pandas "
   ]
  },
  {
   "cell_type": "markdown",
   "metadata": {},
   "source": [
    "## Series"
   ]
  },
  {
   "cell_type": "code",
   "execution_count": 3,
   "metadata": {},
   "outputs": [
    {
     "data": {
      "text/plain": [
       "a    1\n",
       "b    2\n",
       "c    3\n",
       "dtype: int64"
      ]
     },
     "execution_count": 3,
     "metadata": {},
     "output_type": "execute_result"
    }
   ],
   "source": [
    "# Series is built on top of NumPy array\n",
    "\n",
    "labels = ['a', 'b', 'c']\n",
    "my_data = [1,2,3]\n",
    "\n",
    "pd.Series(data=my_data, index=labels)"
   ]
  },
  {
   "cell_type": "code",
   "execution_count": 4,
   "metadata": {
    "collapsed": true
   },
   "outputs": [],
   "source": [
    "# We can also pass Dictionary as data to Series\n",
    "# In case of a dictionary, Pandas will automatically convert 'Key' as Index_Label and\n",
    "# 'Value' as the corressponding Series Value\n",
    "\n",
    "dic = { \"First Name\": \"Rakshith\", \"Last Name\" : \"Ramagiri\"}"
   ]
  },
  {
   "cell_type": "code",
   "execution_count": 5,
   "metadata": {},
   "outputs": [
    {
     "data": {
      "text/plain": [
       "{'First Name': 'Rakshith', 'Last Name': 'Ramagiri'}"
      ]
     },
     "execution_count": 5,
     "metadata": {},
     "output_type": "execute_result"
    }
   ],
   "source": [
    "dic"
   ]
  },
  {
   "cell_type": "code",
   "execution_count": 6,
   "metadata": {},
   "outputs": [
    {
     "data": {
      "text/plain": [
       "First Name    Rakshith\n",
       "Last Name     Ramagiri\n",
       "dtype: object"
      ]
     },
     "execution_count": 6,
     "metadata": {},
     "output_type": "execute_result"
    }
   ],
   "source": [
    "pd.Series(data=dic) # NOTE: Pass only the dictionary."
   ]
  },
  {
   "cell_type": "code",
   "execution_count": 7,
   "metadata": {},
   "outputs": [
    {
     "data": {
      "text/plain": [
       "0    <built-in function sum>\n",
       "1    <built-in function max>\n",
       "2    <built-in function min>\n",
       "dtype: object"
      ]
     },
     "execution_count": 7,
     "metadata": {},
     "output_type": "execute_result"
    }
   ],
   "source": [
    "# we can also pass built-in function as data references to pd.Series\n",
    "\n",
    "pd.Series(data=[sum, max, min])"
   ]
  },
  {
   "cell_type": "code",
   "execution_count": 8,
   "metadata": {
    "collapsed": true
   },
   "outputs": [],
   "source": [
    "# Series Vectorized Operations tries to add elements by matching their index_labels"
   ]
  },
  {
   "cell_type": "code",
   "execution_count": 9,
   "metadata": {
    "collapsed": true
   },
   "outputs": [],
   "source": [
    "ser1 = pd.Series(data=[5,10,16], index=['a','b','c'])"
   ]
  },
  {
   "cell_type": "code",
   "execution_count": 10,
   "metadata": {
    "collapsed": true
   },
   "outputs": [],
   "source": [
    "ser2 = pd.Series(data=[3,7,9], index=['b','c','d'])"
   ]
  },
  {
   "cell_type": "code",
   "execution_count": 11,
   "metadata": {},
   "outputs": [
    {
     "data": {
      "text/plain": [
       "a     NaN\n",
       "b    13.0\n",
       "c    23.0\n",
       "d     NaN\n",
       "dtype: float64"
      ]
     },
     "execution_count": 11,
     "metadata": {},
     "output_type": "execute_result"
    }
   ],
   "source": [
    "ser1 + ser2 # will add all matching index_label values, \n",
    "            # if no matching index_label is found, then it returns 'NaN'"
   ]
  },
  {
   "cell_type": "code",
   "execution_count": 12,
   "metadata": {
    "collapsed": true
   },
   "outputs": [],
   "source": [
    "# NOTE: all integer types are automatically converted to 'float64' type"
   ]
  },
  {
   "cell_type": "markdown",
   "metadata": {},
   "source": [
    "## DataFrames"
   ]
  },
  {
   "cell_type": "code",
   "execution_count": 14,
   "metadata": {},
   "outputs": [],
   "source": [
    "from numpy.random import randn"
   ]
  },
  {
   "cell_type": "code",
   "execution_count": 15,
   "metadata": {
    "collapsed": true
   },
   "outputs": [],
   "source": [
    "df = pd.DataFrame(data=randn(5,4), index=['Row A','Row B','Row C','Row D','Row E'], columns=['Col 1','Col 2','Col 3','Col 4'])"
   ]
  },
  {
   "cell_type": "code",
   "execution_count": 16,
   "metadata": {},
   "outputs": [
    {
     "data": {
      "text/html": [
       "<div>\n",
       "<style>\n",
       "    .dataframe thead tr:only-child th {\n",
       "        text-align: right;\n",
       "    }\n",
       "\n",
       "    .dataframe thead th {\n",
       "        text-align: left;\n",
       "    }\n",
       "\n",
       "    .dataframe tbody tr th {\n",
       "        vertical-align: top;\n",
       "    }\n",
       "</style>\n",
       "<table border=\"1\" class=\"dataframe\">\n",
       "  <thead>\n",
       "    <tr style=\"text-align: right;\">\n",
       "      <th></th>\n",
       "      <th>Col 1</th>\n",
       "      <th>Col 2</th>\n",
       "      <th>Col 3</th>\n",
       "      <th>Col 4</th>\n",
       "    </tr>\n",
       "  </thead>\n",
       "  <tbody>\n",
       "    <tr>\n",
       "      <th>Row A</th>\n",
       "      <td>-0.324043</td>\n",
       "      <td>0.188473</td>\n",
       "      <td>-1.049823</td>\n",
       "      <td>-0.791464</td>\n",
       "    </tr>\n",
       "    <tr>\n",
       "      <th>Row B</th>\n",
       "      <td>-0.769422</td>\n",
       "      <td>-0.738268</td>\n",
       "      <td>-2.106194</td>\n",
       "      <td>-0.633131</td>\n",
       "    </tr>\n",
       "    <tr>\n",
       "      <th>Row C</th>\n",
       "      <td>-0.451459</td>\n",
       "      <td>-0.832554</td>\n",
       "      <td>1.126960</td>\n",
       "      <td>0.505772</td>\n",
       "    </tr>\n",
       "    <tr>\n",
       "      <th>Row D</th>\n",
       "      <td>1.008664</td>\n",
       "      <td>0.487098</td>\n",
       "      <td>0.041811</td>\n",
       "      <td>-0.107324</td>\n",
       "    </tr>\n",
       "    <tr>\n",
       "      <th>Row E</th>\n",
       "      <td>1.304048</td>\n",
       "      <td>0.188240</td>\n",
       "      <td>2.033199</td>\n",
       "      <td>-0.514339</td>\n",
       "    </tr>\n",
       "  </tbody>\n",
       "</table>\n",
       "</div>"
      ],
      "text/plain": [
       "          Col 1     Col 2     Col 3     Col 4\n",
       "Row A -0.324043  0.188473 -1.049823 -0.791464\n",
       "Row B -0.769422 -0.738268 -2.106194 -0.633131\n",
       "Row C -0.451459 -0.832554  1.126960  0.505772\n",
       "Row D  1.008664  0.487098  0.041811 -0.107324\n",
       "Row E  1.304048  0.188240  2.033199 -0.514339"
      ]
     },
     "execution_count": 16,
     "metadata": {},
     "output_type": "execute_result"
    }
   ],
   "source": [
    "df"
   ]
  },
  {
   "cell_type": "code",
   "execution_count": 17,
   "metadata": {
    "collapsed": true
   },
   "outputs": [],
   "source": [
    "# DataFrame is simply a bunch of Series that share the same indices"
   ]
  },
  {
   "cell_type": "code",
   "execution_count": 18,
   "metadata": {},
   "outputs": [
    {
     "data": {
      "text/plain": [
       "Row A   -0.324043\n",
       "Row B   -0.769422\n",
       "Row C   -0.451459\n",
       "Row D    1.008664\n",
       "Row E    1.304048\n",
       "Name: Col 1, dtype: float64"
      ]
     },
     "execution_count": 18,
     "metadata": {},
     "output_type": "execute_result"
    }
   ],
   "source": [
    "df['Col 1']"
   ]
  },
  {
   "cell_type": "code",
   "execution_count": 19,
   "metadata": {},
   "outputs": [
    {
     "data": {
      "text/plain": [
       "pandas.core.series.Series"
      ]
     },
     "execution_count": 19,
     "metadata": {},
     "output_type": "execute_result"
    }
   ],
   "source": [
    "type(df['Col 1']) # we can confirm the above statement using 'type()'"
   ]
  },
  {
   "cell_type": "code",
   "execution_count": 20,
   "metadata": {},
   "outputs": [
    {
     "data": {
      "text/plain": [
       "pandas.core.frame.DataFrame"
      ]
     },
     "execution_count": 20,
     "metadata": {},
     "output_type": "execute_result"
    }
   ],
   "source": [
    "type(df)"
   ]
  },
  {
   "cell_type": "code",
   "execution_count": 22,
   "metadata": {},
   "outputs": [
    {
     "data": {
      "text/html": [
       "<div>\n",
       "<style>\n",
       "    .dataframe thead tr:only-child th {\n",
       "        text-align: right;\n",
       "    }\n",
       "\n",
       "    .dataframe thead th {\n",
       "        text-align: left;\n",
       "    }\n",
       "\n",
       "    .dataframe tbody tr th {\n",
       "        vertical-align: top;\n",
       "    }\n",
       "</style>\n",
       "<table border=\"1\" class=\"dataframe\">\n",
       "  <thead>\n",
       "    <tr style=\"text-align: right;\">\n",
       "      <th></th>\n",
       "      <th>Col 2</th>\n",
       "      <th>Col 4</th>\n",
       "    </tr>\n",
       "  </thead>\n",
       "  <tbody>\n",
       "    <tr>\n",
       "      <th>Row A</th>\n",
       "      <td>0.188473</td>\n",
       "      <td>-0.791464</td>\n",
       "    </tr>\n",
       "    <tr>\n",
       "      <th>Row B</th>\n",
       "      <td>-0.738268</td>\n",
       "      <td>-0.633131</td>\n",
       "    </tr>\n",
       "    <tr>\n",
       "      <th>Row C</th>\n",
       "      <td>-0.832554</td>\n",
       "      <td>0.505772</td>\n",
       "    </tr>\n",
       "    <tr>\n",
       "      <th>Row D</th>\n",
       "      <td>0.487098</td>\n",
       "      <td>-0.107324</td>\n",
       "    </tr>\n",
       "    <tr>\n",
       "      <th>Row E</th>\n",
       "      <td>0.188240</td>\n",
       "      <td>-0.514339</td>\n",
       "    </tr>\n",
       "  </tbody>\n",
       "</table>\n",
       "</div>"
      ],
      "text/plain": [
       "          Col 2     Col 4\n",
       "Row A  0.188473 -0.791464\n",
       "Row B -0.738268 -0.633131\n",
       "Row C -0.832554  0.505772\n",
       "Row D  0.487098 -0.107324\n",
       "Row E  0.188240 -0.514339"
      ]
     },
     "execution_count": 22,
     "metadata": {},
     "output_type": "execute_result"
    }
   ],
   "source": [
    "# Selecting only a few columns\n",
    "df[['Col 2', 'Col 4']]"
   ]
  },
  {
   "cell_type": "code",
   "execution_count": 24,
   "metadata": {},
   "outputs": [],
   "source": [
    "# Creating new columns inside an existing DataFrame.\n",
    "\n",
    "df['new'] = df['Col 3'] + df['Col 4'] # similar to creating a new 'Key-Value' pair in dictionary"
   ]
  },
  {
   "cell_type": "code",
   "execution_count": 25,
   "metadata": {},
   "outputs": [
    {
     "data": {
      "text/html": [
       "<div>\n",
       "<style>\n",
       "    .dataframe thead tr:only-child th {\n",
       "        text-align: right;\n",
       "    }\n",
       "\n",
       "    .dataframe thead th {\n",
       "        text-align: left;\n",
       "    }\n",
       "\n",
       "    .dataframe tbody tr th {\n",
       "        vertical-align: top;\n",
       "    }\n",
       "</style>\n",
       "<table border=\"1\" class=\"dataframe\">\n",
       "  <thead>\n",
       "    <tr style=\"text-align: right;\">\n",
       "      <th></th>\n",
       "      <th>Col 1</th>\n",
       "      <th>Col 2</th>\n",
       "      <th>Col 3</th>\n",
       "      <th>Col 4</th>\n",
       "      <th>new</th>\n",
       "    </tr>\n",
       "  </thead>\n",
       "  <tbody>\n",
       "    <tr>\n",
       "      <th>Row A</th>\n",
       "      <td>-0.324043</td>\n",
       "      <td>0.188473</td>\n",
       "      <td>-1.049823</td>\n",
       "      <td>-0.791464</td>\n",
       "      <td>-1.841287</td>\n",
       "    </tr>\n",
       "    <tr>\n",
       "      <th>Row B</th>\n",
       "      <td>-0.769422</td>\n",
       "      <td>-0.738268</td>\n",
       "      <td>-2.106194</td>\n",
       "      <td>-0.633131</td>\n",
       "      <td>-2.739326</td>\n",
       "    </tr>\n",
       "    <tr>\n",
       "      <th>Row C</th>\n",
       "      <td>-0.451459</td>\n",
       "      <td>-0.832554</td>\n",
       "      <td>1.126960</td>\n",
       "      <td>0.505772</td>\n",
       "      <td>1.632732</td>\n",
       "    </tr>\n",
       "    <tr>\n",
       "      <th>Row D</th>\n",
       "      <td>1.008664</td>\n",
       "      <td>0.487098</td>\n",
       "      <td>0.041811</td>\n",
       "      <td>-0.107324</td>\n",
       "      <td>-0.065513</td>\n",
       "    </tr>\n",
       "    <tr>\n",
       "      <th>Row E</th>\n",
       "      <td>1.304048</td>\n",
       "      <td>0.188240</td>\n",
       "      <td>2.033199</td>\n",
       "      <td>-0.514339</td>\n",
       "      <td>1.518860</td>\n",
       "    </tr>\n",
       "  </tbody>\n",
       "</table>\n",
       "</div>"
      ],
      "text/plain": [
       "          Col 1     Col 2     Col 3     Col 4       new\n",
       "Row A -0.324043  0.188473 -1.049823 -0.791464 -1.841287\n",
       "Row B -0.769422 -0.738268 -2.106194 -0.633131 -2.739326\n",
       "Row C -0.451459 -0.832554  1.126960  0.505772  1.632732\n",
       "Row D  1.008664  0.487098  0.041811 -0.107324 -0.065513\n",
       "Row E  1.304048  0.188240  2.033199 -0.514339  1.518860"
      ]
     },
     "execution_count": 25,
     "metadata": {},
     "output_type": "execute_result"
    }
   ],
   "source": [
    "df"
   ]
  },
  {
   "cell_type": "code",
   "execution_count": 27,
   "metadata": {},
   "outputs": [
    {
     "ename": "ValueError",
     "evalue": "labels ['new'] not contained in axis",
     "output_type": "error",
     "traceback": [
      "\u001b[1;31m---------------------------------------------------------------------------\u001b[0m",
      "\u001b[1;31mValueError\u001b[0m                                Traceback (most recent call last)",
      "\u001b[1;32m<ipython-input-27-2a9ed43eefd2>\u001b[0m in \u001b[0;36m<module>\u001b[1;34m()\u001b[0m\n\u001b[0;32m      1\u001b[0m \u001b[1;31m# we can also DROP existing columns in DataFrame.\u001b[0m\u001b[1;33m\u001b[0m\u001b[1;33m\u001b[0m\u001b[0m\n\u001b[0;32m      2\u001b[0m \u001b[1;33m\u001b[0m\u001b[0m\n\u001b[1;32m----> 3\u001b[1;33m \u001b[0mdf\u001b[0m\u001b[1;33m.\u001b[0m\u001b[0mdrop\u001b[0m\u001b[1;33m(\u001b[0m\u001b[1;34m'new'\u001b[0m\u001b[1;33m)\u001b[0m \u001b[1;31m# axis = 0 # by Default, DataFrame axis is set to ROW,\u001b[0m\u001b[1;33m\u001b[0m\u001b[0m\n\u001b[0m\u001b[0;32m      4\u001b[0m                \u001b[1;31m# we need to change it to COLUMN to delete columns i.e, axis = 1\u001b[0m\u001b[1;33m\u001b[0m\u001b[1;33m\u001b[0m\u001b[0m\n",
      "\u001b[1;32m~\\Anaconda3\\lib\\site-packages\\pandas\\core\\generic.py\u001b[0m in \u001b[0;36mdrop\u001b[1;34m(self, labels, axis, level, inplace, errors)\u001b[0m\n\u001b[0;32m   2159\u001b[0m                 \u001b[0mnew_axis\u001b[0m \u001b[1;33m=\u001b[0m \u001b[0maxis\u001b[0m\u001b[1;33m.\u001b[0m\u001b[0mdrop\u001b[0m\u001b[1;33m(\u001b[0m\u001b[0mlabels\u001b[0m\u001b[1;33m,\u001b[0m \u001b[0mlevel\u001b[0m\u001b[1;33m=\u001b[0m\u001b[0mlevel\u001b[0m\u001b[1;33m,\u001b[0m \u001b[0merrors\u001b[0m\u001b[1;33m=\u001b[0m\u001b[0merrors\u001b[0m\u001b[1;33m)\u001b[0m\u001b[1;33m\u001b[0m\u001b[0m\n\u001b[0;32m   2160\u001b[0m             \u001b[1;32melse\u001b[0m\u001b[1;33m:\u001b[0m\u001b[1;33m\u001b[0m\u001b[0m\n\u001b[1;32m-> 2161\u001b[1;33m                 \u001b[0mnew_axis\u001b[0m \u001b[1;33m=\u001b[0m \u001b[0maxis\u001b[0m\u001b[1;33m.\u001b[0m\u001b[0mdrop\u001b[0m\u001b[1;33m(\u001b[0m\u001b[0mlabels\u001b[0m\u001b[1;33m,\u001b[0m \u001b[0merrors\u001b[0m\u001b[1;33m=\u001b[0m\u001b[0merrors\u001b[0m\u001b[1;33m)\u001b[0m\u001b[1;33m\u001b[0m\u001b[0m\n\u001b[0m\u001b[0;32m   2162\u001b[0m             \u001b[0mdropped\u001b[0m \u001b[1;33m=\u001b[0m \u001b[0mself\u001b[0m\u001b[1;33m.\u001b[0m\u001b[0mreindex\u001b[0m\u001b[1;33m(\u001b[0m\u001b[1;33m**\u001b[0m\u001b[1;33m{\u001b[0m\u001b[0maxis_name\u001b[0m\u001b[1;33m:\u001b[0m \u001b[0mnew_axis\u001b[0m\u001b[1;33m}\u001b[0m\u001b[1;33m)\u001b[0m\u001b[1;33m\u001b[0m\u001b[0m\n\u001b[0;32m   2163\u001b[0m             \u001b[1;32mtry\u001b[0m\u001b[1;33m:\u001b[0m\u001b[1;33m\u001b[0m\u001b[0m\n",
      "\u001b[1;32m~\\Anaconda3\\lib\\site-packages\\pandas\\core\\indexes\\base.py\u001b[0m in \u001b[0;36mdrop\u001b[1;34m(self, labels, errors)\u001b[0m\n\u001b[0;32m   3622\u001b[0m             \u001b[1;32mif\u001b[0m \u001b[0merrors\u001b[0m \u001b[1;33m!=\u001b[0m \u001b[1;34m'ignore'\u001b[0m\u001b[1;33m:\u001b[0m\u001b[1;33m\u001b[0m\u001b[0m\n\u001b[0;32m   3623\u001b[0m                 raise ValueError('labels %s not contained in axis' %\n\u001b[1;32m-> 3624\u001b[1;33m                                  labels[mask])\n\u001b[0m\u001b[0;32m   3625\u001b[0m             \u001b[0mindexer\u001b[0m \u001b[1;33m=\u001b[0m \u001b[0mindexer\u001b[0m\u001b[1;33m[\u001b[0m\u001b[1;33m~\u001b[0m\u001b[0mmask\u001b[0m\u001b[1;33m]\u001b[0m\u001b[1;33m\u001b[0m\u001b[0m\n\u001b[0;32m   3626\u001b[0m         \u001b[1;32mreturn\u001b[0m \u001b[0mself\u001b[0m\u001b[1;33m.\u001b[0m\u001b[0mdelete\u001b[0m\u001b[1;33m(\u001b[0m\u001b[0mindexer\u001b[0m\u001b[1;33m)\u001b[0m\u001b[1;33m\u001b[0m\u001b[0m\n",
      "\u001b[1;31mValueError\u001b[0m: labels ['new'] not contained in axis"
     ]
    }
   ],
   "source": [
    "# we can also DROP existing columns in DataFrame.\n",
    "\n",
    "df.drop('new') # axis = 0 # by Default, DataFrame axis is set to ROW,\n",
    "               # we need to change it to COLUMN to delete columns i.e, axis = 1"
   ]
  },
  {
   "cell_type": "code",
   "execution_count": 28,
   "metadata": {},
   "outputs": [
    {
     "data": {
      "text/html": [
       "<div>\n",
       "<style>\n",
       "    .dataframe thead tr:only-child th {\n",
       "        text-align: right;\n",
       "    }\n",
       "\n",
       "    .dataframe thead th {\n",
       "        text-align: left;\n",
       "    }\n",
       "\n",
       "    .dataframe tbody tr th {\n",
       "        vertical-align: top;\n",
       "    }\n",
       "</style>\n",
       "<table border=\"1\" class=\"dataframe\">\n",
       "  <thead>\n",
       "    <tr style=\"text-align: right;\">\n",
       "      <th></th>\n",
       "      <th>Col 1</th>\n",
       "      <th>Col 2</th>\n",
       "      <th>Col 3</th>\n",
       "      <th>Col 4</th>\n",
       "    </tr>\n",
       "  </thead>\n",
       "  <tbody>\n",
       "    <tr>\n",
       "      <th>Row A</th>\n",
       "      <td>-0.324043</td>\n",
       "      <td>0.188473</td>\n",
       "      <td>-1.049823</td>\n",
       "      <td>-0.791464</td>\n",
       "    </tr>\n",
       "    <tr>\n",
       "      <th>Row B</th>\n",
       "      <td>-0.769422</td>\n",
       "      <td>-0.738268</td>\n",
       "      <td>-2.106194</td>\n",
       "      <td>-0.633131</td>\n",
       "    </tr>\n",
       "    <tr>\n",
       "      <th>Row C</th>\n",
       "      <td>-0.451459</td>\n",
       "      <td>-0.832554</td>\n",
       "      <td>1.126960</td>\n",
       "      <td>0.505772</td>\n",
       "    </tr>\n",
       "    <tr>\n",
       "      <th>Row D</th>\n",
       "      <td>1.008664</td>\n",
       "      <td>0.487098</td>\n",
       "      <td>0.041811</td>\n",
       "      <td>-0.107324</td>\n",
       "    </tr>\n",
       "    <tr>\n",
       "      <th>Row E</th>\n",
       "      <td>1.304048</td>\n",
       "      <td>0.188240</td>\n",
       "      <td>2.033199</td>\n",
       "      <td>-0.514339</td>\n",
       "    </tr>\n",
       "  </tbody>\n",
       "</table>\n",
       "</div>"
      ],
      "text/plain": [
       "          Col 1     Col 2     Col 3     Col 4\n",
       "Row A -0.324043  0.188473 -1.049823 -0.791464\n",
       "Row B -0.769422 -0.738268 -2.106194 -0.633131\n",
       "Row C -0.451459 -0.832554  1.126960  0.505772\n",
       "Row D  1.008664  0.487098  0.041811 -0.107324\n",
       "Row E  1.304048  0.188240  2.033199 -0.514339"
      ]
     },
     "execution_count": 28,
     "metadata": {},
     "output_type": "execute_result"
    }
   ],
   "source": [
    "df.drop('new', axis=1) # this doesn't actually affect the DataFrame. Because 'drop' is not 'inplace' by default."
   ]
  },
  {
   "cell_type": "code",
   "execution_count": 29,
   "metadata": {
    "collapsed": true
   },
   "outputs": [],
   "source": [
    "df.drop('new', axis=1, inplace=True) # this permanentely affects the DataFrame."
   ]
  },
  {
   "cell_type": "code",
   "execution_count": 31,
   "metadata": {},
   "outputs": [
    {
     "data": {
      "text/html": [
       "<div>\n",
       "<style>\n",
       "    .dataframe thead tr:only-child th {\n",
       "        text-align: right;\n",
       "    }\n",
       "\n",
       "    .dataframe thead th {\n",
       "        text-align: left;\n",
       "    }\n",
       "\n",
       "    .dataframe tbody tr th {\n",
       "        vertical-align: top;\n",
       "    }\n",
       "</style>\n",
       "<table border=\"1\" class=\"dataframe\">\n",
       "  <thead>\n",
       "    <tr style=\"text-align: right;\">\n",
       "      <th></th>\n",
       "      <th>Col 1</th>\n",
       "      <th>Col 2</th>\n",
       "      <th>Col 3</th>\n",
       "      <th>Col 4</th>\n",
       "    </tr>\n",
       "  </thead>\n",
       "  <tbody>\n",
       "    <tr>\n",
       "      <th>Row A</th>\n",
       "      <td>-0.324043</td>\n",
       "      <td>0.188473</td>\n",
       "      <td>-1.049823</td>\n",
       "      <td>-0.791464</td>\n",
       "    </tr>\n",
       "    <tr>\n",
       "      <th>Row B</th>\n",
       "      <td>-0.769422</td>\n",
       "      <td>-0.738268</td>\n",
       "      <td>-2.106194</td>\n",
       "      <td>-0.633131</td>\n",
       "    </tr>\n",
       "    <tr>\n",
       "      <th>Row C</th>\n",
       "      <td>-0.451459</td>\n",
       "      <td>-0.832554</td>\n",
       "      <td>1.126960</td>\n",
       "      <td>0.505772</td>\n",
       "    </tr>\n",
       "    <tr>\n",
       "      <th>Row D</th>\n",
       "      <td>1.008664</td>\n",
       "      <td>0.487098</td>\n",
       "      <td>0.041811</td>\n",
       "      <td>-0.107324</td>\n",
       "    </tr>\n",
       "    <tr>\n",
       "      <th>Row E</th>\n",
       "      <td>1.304048</td>\n",
       "      <td>0.188240</td>\n",
       "      <td>2.033199</td>\n",
       "      <td>-0.514339</td>\n",
       "    </tr>\n",
       "  </tbody>\n",
       "</table>\n",
       "</div>"
      ],
      "text/plain": [
       "          Col 1     Col 2     Col 3     Col 4\n",
       "Row A -0.324043  0.188473 -1.049823 -0.791464\n",
       "Row B -0.769422 -0.738268 -2.106194 -0.633131\n",
       "Row C -0.451459 -0.832554  1.126960  0.505772\n",
       "Row D  1.008664  0.487098  0.041811 -0.107324\n",
       "Row E  1.304048  0.188240  2.033199 -0.514339"
      ]
     },
     "execution_count": 31,
     "metadata": {},
     "output_type": "execute_result"
    }
   ],
   "source": [
    "df # changes permanent"
   ]
  },
  {
   "cell_type": "code",
   "execution_count": 32,
   "metadata": {},
   "outputs": [
    {
     "data": {
      "text/plain": [
       "(5, 4)"
      ]
     },
     "execution_count": 32,
     "metadata": {},
     "output_type": "execute_result"
    }
   ],
   "source": [
    "df.shape # to show DataFrame dimensions"
   ]
  },
  {
   "cell_type": "code",
   "execution_count": 33,
   "metadata": {
    "collapsed": true
   },
   "outputs": [],
   "source": [
    "# as a result 'AXIS = 0' refers to 'ROWS' and 'AXIS = 1' refers to 'COLUMNS'"
   ]
  },
  {
   "cell_type": "markdown",
   "metadata": {},
   "source": [
    "### Selecting ROWS in DataFrame."
   ]
  },
  {
   "cell_type": "code",
   "execution_count": 35,
   "metadata": {},
   "outputs": [
    {
     "data": {
      "text/plain": [
       "Col 1   -0.324043\n",
       "Col 2    0.188473\n",
       "Col 3   -1.049823\n",
       "Col 4   -0.791464\n",
       "Name: Row A, dtype: float64"
      ]
     },
     "execution_count": 35,
     "metadata": {},
     "output_type": "execute_result"
    }
   ],
   "source": [
    "# Label-based ROW selection\n",
    "\n",
    "df.loc['Row A'] # 'loc' is a DataFrame method, yet it uses square_brackets '[]' weird??"
   ]
  },
  {
   "cell_type": "code",
   "execution_count": 36,
   "metadata": {
    "collapsed": true
   },
   "outputs": [],
   "source": [
    "# as we can observe, the returned item is also a pd.Series object"
   ]
  },
  {
   "cell_type": "code",
   "execution_count": 37,
   "metadata": {},
   "outputs": [
    {
     "data": {
      "text/plain": [
       "Col 1   -0.324043\n",
       "Col 2    0.188473\n",
       "Col 3   -1.049823\n",
       "Col 4   -0.791464\n",
       "Name: Row A, dtype: float64"
      ]
     },
     "execution_count": 37,
     "metadata": {},
     "output_type": "execute_result"
    }
   ],
   "source": [
    "# Index-based ROW selection\n",
    "\n",
    "df.iloc[0]"
   ]
  },
  {
   "cell_type": "markdown",
   "metadata": {},
   "source": [
    "### Selecting Single Values in DataFrame"
   ]
  },
  {
   "cell_type": "code",
   "execution_count": 39,
   "metadata": {},
   "outputs": [
    {
     "data": {
      "text/plain": [
       "-0.3240428992191905"
      ]
     },
     "execution_count": 39,
     "metadata": {},
     "output_type": "execute_result"
    }
   ],
   "source": [
    "# Obtaining a single value.\n",
    "\n",
    "df.loc['Row A', 'Col 1']"
   ]
  },
  {
   "cell_type": "code",
   "execution_count": 40,
   "metadata": {},
   "outputs": [
    {
     "data": {
      "text/html": [
       "<div>\n",
       "<style>\n",
       "    .dataframe thead tr:only-child th {\n",
       "        text-align: right;\n",
       "    }\n",
       "\n",
       "    .dataframe thead th {\n",
       "        text-align: left;\n",
       "    }\n",
       "\n",
       "    .dataframe tbody tr th {\n",
       "        vertical-align: top;\n",
       "    }\n",
       "</style>\n",
       "<table border=\"1\" class=\"dataframe\">\n",
       "  <thead>\n",
       "    <tr style=\"text-align: right;\">\n",
       "      <th></th>\n",
       "      <th>Col 2</th>\n",
       "      <th>Col 3</th>\n",
       "    </tr>\n",
       "  </thead>\n",
       "  <tbody>\n",
       "    <tr>\n",
       "      <th>Row A</th>\n",
       "      <td>0.188473</td>\n",
       "      <td>-1.049823</td>\n",
       "    </tr>\n",
       "    <tr>\n",
       "      <th>Row D</th>\n",
       "      <td>0.487098</td>\n",
       "      <td>0.041811</td>\n",
       "    </tr>\n",
       "  </tbody>\n",
       "</table>\n",
       "</div>"
      ],
      "text/plain": [
       "          Col 2     Col 3\n",
       "Row A  0.188473 -1.049823\n",
       "Row D  0.487098  0.041811"
      ]
     },
     "execution_count": 40,
     "metadata": {},
     "output_type": "execute_result"
    }
   ],
   "source": [
    "# Obtaining sub-DataFrame from a DataFrame.\n",
    "\n",
    "df.loc[ ['Row A', 'Row D'] , ['Col 2', 'Col 3']] # loc[ [ROW_SELECTION] , [COLUMN_SELECTION] ]"
   ]
  },
  {
   "cell_type": "code",
   "execution_count": null,
   "metadata": {
    "collapsed": true
   },
   "outputs": [],
   "source": []
  }
 ],
 "metadata": {
  "kernelspec": {
   "display_name": "Python 3",
   "language": "python",
   "name": "python3"
  },
  "language_info": {
   "codemirror_mode": {
    "name": "ipython",
    "version": 3
   },
   "file_extension": ".py",
   "mimetype": "text/x-python",
   "name": "python",
   "nbconvert_exporter": "python",
   "pygments_lexer": "ipython3",
   "version": "3.6.3"
  }
 },
 "nbformat": 4,
 "nbformat_minor": 2
}
